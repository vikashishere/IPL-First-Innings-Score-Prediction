{
 "cells": [
  {
   "cell_type": "code",
   "execution_count": 1,
   "id": "c53004f3",
   "metadata": {},
   "outputs": [],
   "source": [
    "# Importing essential libraries\n",
    "from flask import Flask, render_template, request\n",
    "import pickle\n",
    "import numpy as np\n",
    "import warnings\n",
    "warnings.filterwarnings(\"ignore\")\n",
    "\n",
    "# Load the Random Forest CLassifier model\n",
    "filename = 'first-innings-score-lr-model.pkl'\n",
    "regressor = pickle.load(open(filename, 'rb'))\n",
    "\n",
    "app = Flask(__name__)"
   ]
  },
  {
   "cell_type": "code",
   "execution_count": 2,
   "id": "cc03a325",
   "metadata": {},
   "outputs": [],
   "source": [
    "@app.route('/')\n",
    "def home():\n",
    "\treturn render_template('index.html')"
   ]
  },
  {
   "cell_type": "code",
   "execution_count": 3,
   "id": "8c527f25",
   "metadata": {},
   "outputs": [],
   "source": [
    "@app.route('/predict', methods=['POST'])\n",
    "def predict():\n",
    "    temp_array = list()\n",
    "    \n",
    "    if request.method == 'POST':\n",
    "        \n",
    "        batting_team = request.form['batting-team']\n",
    "        if batting_team == 'Chennai Super Kings':\n",
    "            temp_array = temp_array + [1,0,0,0,0,0,0,0]\n",
    "        elif batting_team == 'Delhi Daredevils':\n",
    "            temp_array = temp_array + [0,1,0,0,0,0,0,0]\n",
    "        elif batting_team == 'Kings XI Punjab':\n",
    "            temp_array = temp_array + [0,0,1,0,0,0,0,0]\n",
    "        elif batting_team == 'Kolkata Knight Riders':\n",
    "            temp_array = temp_array + [0,0,0,1,0,0,0,0]\n",
    "        elif batting_team == 'Mumbai Indians':\n",
    "            temp_array = temp_array + [0,0,0,0,1,0,0,0]\n",
    "        elif batting_team == 'Rajasthan Royals':\n",
    "            temp_array = temp_array + [0,0,0,0,0,1,0,0]\n",
    "        elif batting_team == 'Royal Challengers Bangalore':\n",
    "            temp_array = temp_array + [0,0,0,0,0,0,1,0]\n",
    "        elif batting_team == 'Sunrisers Hyderabad':\n",
    "            temp_array = temp_array + [0,0,0,0,0,0,0,1]\n",
    "            \n",
    "            \n",
    "        bowling_team = request.form['bowling-team']\n",
    "        if bowling_team == 'Chennai Super Kings':\n",
    "            temp_array = temp_array + [1,0,0,0,0,0,0,0]\n",
    "        elif bowling_team == 'Delhi Daredevils':\n",
    "            temp_array = temp_array + [0,1,0,0,0,0,0,0]\n",
    "        elif bowling_team == 'Kings XI Punjab':\n",
    "            temp_array = temp_array + [0,0,1,0,0,0,0,0]\n",
    "        elif bowling_team == 'Kolkata Knight Riders':\n",
    "            temp_array = temp_array + [0,0,0,1,0,0,0,0]\n",
    "        elif bowling_team == 'Mumbai Indians':\n",
    "            temp_array = temp_array + [0,0,0,0,1,0,0,0]\n",
    "        elif bowling_team == 'Rajasthan Royals':\n",
    "            temp_array = temp_array + [0,0,0,0,0,1,0,0]\n",
    "        elif bowling_team == 'Royal Challengers Bangalore':\n",
    "            temp_array = temp_array + [0,0,0,0,0,0,1,0]\n",
    "        elif bowling_team == 'Sunrisers Hyderabad':\n",
    "            temp_array = temp_array + [0,0,0,0,0,0,0,1]\n",
    "            \n",
    "            \n",
    "        overs = float(request.form['overs'])\n",
    "        runs = int(request.form['runs'])\n",
    "        wickets = int(request.form['wickets'])\n",
    "        runs_in_prev_5 = int(request.form['runs_in_prev_5'])\n",
    "        wickets_in_prev_5 = int(request.form['wickets_in_prev_5'])\n",
    "        \n",
    "        temp_array = temp_array + [overs, runs, wickets, runs_in_prev_5, wickets_in_prev_5]\n",
    "        \n",
    "        data = np.array([temp_array])\n",
    "        my_prediction = int(regressor.predict(data)[0])\n",
    "              \n",
    "        return render_template('result.html', lower_limit = my_prediction-10, upper_limit = my_prediction+5)\n"
   ]
  },
  {
   "cell_type": "code",
   "execution_count": 4,
   "id": "79db9bf8",
   "metadata": {},
   "outputs": [
    {
     "name": "stdout",
     "output_type": "stream",
     "text": [
      " * Serving Flask app '__main__'\n",
      " * Serving Flask app '__main__'\n",
      " * Debug mode: off\n",
      " * Debug mode: off\n"
     ]
    },
    {
     "name": "stderr",
     "output_type": "stream",
     "text": [
      "WARNING: This is a development server. Do not use it in a production deployment. Use a production WSGI server instead.WARNING: This is a development server. Do not use it in a production deployment. Use a production WSGI server instead.\n",
      " * Running on http://127.0.0.1:5000\n",
      "\n",
      " * Running on http://127.0.0.1:5000\n",
      "Press CTRL+C to quitPress CTRL+C to quit\n",
      "\n",
      "127.0.0.1 - - [20/Mar/2023 15:59:36] \"GET / HTTP/1.1\" 200 -\n",
      "127.0.0.1 - - [20/Mar/2023 15:59:36] \"GET / HTTP/1.1\" 200 -\n",
      "127.0.0.1 - - [20/Mar/2023 15:59:36] \"GET /static/styles.css HTTP/1.1\" 200 -\n",
      "127.0.0.1 - - [20/Mar/2023 15:59:36] \"GET /static/styles.css HTTP/1.1\" 200 -\n",
      "127.0.0.1 - - [20/Mar/2023 15:59:36] \"GET /static/mi.jpg HTTP/1.1\" 200 -\n",
      "127.0.0.1 - - [20/Mar/2023 15:59:36] \"GET /static/mi.jpg HTTP/1.1\" 200 -\n",
      "127.0.0.1 - - [20/Mar/2023 15:59:36] \"GET /static/srh.png HTTP/1.1\" 200 -\n",
      "127.0.0.1 - - [20/Mar/2023 15:59:36] \"GET /static/srh.png HTTP/1.1\" 200 -\n",
      "127.0.0.1 - - [20/Mar/2023 15:59:36] \"GET /static/rcb.png HTTP/1.1\" 200 -\n",
      "127.0.0.1 - - [20/Mar/2023 15:59:36] \"GET /static/rcb.png HTTP/1.1\" 200 -\n",
      "127.0.0.1 - - [20/Mar/2023 15:59:37] \"GET /static/dc.png HTTP/1.1\" 200 -\n",
      "127.0.0.1 - - [20/Mar/2023 15:59:37] \"GET /static/dc.png HTTP/1.1\" 200 -\n",
      "127.0.0.1 - - [20/Mar/2023 15:59:37] \"GET /static/kkr.jpg HTTP/1.1\" 200 -\n",
      "127.0.0.1 - - [20/Mar/2023 15:59:37] \"GET /static/kkr.jpg HTTP/1.1\" 200 -\n",
      "127.0.0.1 - - [20/Mar/2023 15:59:37] \"GET /static/kxip.png HTTP/1.1\" 200 -\n",
      "127.0.0.1 - - [20/Mar/2023 15:59:37] \"GET /static/kxip.png HTTP/1.1\" 200 -\n",
      "127.0.0.1 - - [20/Mar/2023 15:59:37] \"GET /static/rr.png HTTP/1.1\" 200 -\n",
      "127.0.0.1 - - [20/Mar/2023 15:59:37] \"GET /static/rr.png HTTP/1.1\" 200 -\n",
      "127.0.0.1 - - [20/Mar/2023 15:59:37] \"GET /static/csk.png HTTP/1.1\" 200 -\n",
      "127.0.0.1 - - [20/Mar/2023 15:59:37] \"GET /static/csk.png HTTP/1.1\" 200 -\n",
      "127.0.0.1 - - [20/Mar/2023 15:59:37] \"GET /static/ipl-favicon.ico HTTP/1.1\" 200 -\n",
      "127.0.0.1 - - [20/Mar/2023 15:59:37] \"GET /static/ipl-favicon.ico HTTP/1.1\" 200 -\n"
     ]
    }
   ],
   "source": [
    "if __name__ == '__main__':\n",
    "\tapp.run(debug=False)"
   ]
  }
 ],
 "metadata": {
  "kernelspec": {
   "display_name": "Python 3 (ipykernel)",
   "language": "python",
   "name": "python3"
  },
  "language_info": {
   "codemirror_mode": {
    "name": "ipython",
    "version": 3
   },
   "file_extension": ".py",
   "mimetype": "text/x-python",
   "name": "python",
   "nbconvert_exporter": "python",
   "pygments_lexer": "ipython3",
   "version": "3.9.0"
  }
 },
 "nbformat": 4,
 "nbformat_minor": 5
}
